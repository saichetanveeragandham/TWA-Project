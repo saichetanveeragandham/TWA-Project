{
 "cells": [
  {
   "cell_type": "code",
   "execution_count": 43,
   "id": "3d398802",
   "metadata": {},
   "outputs": [],
   "source": [
    "import snowflake.connector"
   ]
  },
  {
   "cell_type": "code",
   "execution_count": 44,
   "id": "95932792",
   "metadata": {},
   "outputs": [
    {
     "name": "stdout",
     "output_type": "stream",
     "text": [
      "<snowflake.connector.cursor.SnowflakeCursor object at 0x0000015043F5E0D0>\n"
     ]
    }
   ],
   "source": [
    "try:\n",
    "    con_eb = snowflake.connector.connect(user='NavyaNelluri',\n",
    "                                     password='Navya.c@698',\n",
    "                                     account='ujlmjrs-rx06772',\n",
    "                                         database='PROJECT_TWA',\n",
    "                                         schema = \"PROJECT_TWA_SCHEMA\"\n",
    "                                     ) \n",
    "except Exception as e:\n",
    "    print(str(e))\n",
    "cs=con_eb.cursor()\n",
    "print(cs)"
   ]
  },
  {
   "cell_type": "code",
   "execution_count": 45,
   "id": "f19999e8",
   "metadata": {},
   "outputs": [
    {
     "name": "stdout",
     "output_type": "stream",
     "text": [
      "('LISA', 'Janitorial/Facilities', 'Florissant, Valley Park, Arnold, West County, University City, Downtown, Clayton, Ladue, Hazelwood', 'Mallory Reed-mreed@abbcoserv.com', 'General Cleaners', '$12-$14', 'Part time is eligible for all benefits except medical, Full time is eligible for all benefits', 'We have a few first shift and mostly second shift full time and part time\\n', 'Most felony charges', 'They seem enthusiastic, but their offense exemptions are pretty limiting (I’d say that more than half of our jobseekers have a weapons and/or theft charge). I once felt out whether they would be interested in hiring someone with a sex offense, and they seemed open to it as a company, but all of their accounts were in schools at the time. Alison is Marquita and Mallory’s supervisor, but I’ve actually found Marquita to be most responsive and best for sending referrals.')\n"
     ]
    }
   ],
   "source": [
    "cs.execute(\"SELECT * FROM PROJECT_TWA.PROJECT_TWA_SCHEMA.JobSeeker\")\n",
    "jobSeeker_result=cs.fetchone();\n",
    "print(result)"
   ]
  },
  {
   "cell_type": "code",
   "execution_count": 46,
   "id": "23d127c4",
   "metadata": {
    "scrolled": true
   },
   "outputs": [
    {
     "name": "stdout",
     "output_type": "stream",
     "text": [
      "('LISA', 'Janitorial/Facilities', 'Florissant, Valley Park, Arnold, West County, University City, Downtown, Clayton, Ladue, Hazelwood', 'Mallory Reed-mreed@abbcoserv.com', 'General Cleaners', '$12-$14', 'Part time is eligible for all benefits except medical, Full time is eligible for all benefits', 'We have a few first shift and mostly second shift full time and part time\\n', 'Most felony charges', 'They seem enthusiastic, but their offense exemptions are pretty limiting (I’d say that more than half of our jobseekers have a weapons and/or theft charge). I once felt out whether they would be interested in hiring someone with a sex offense, and they seemed open to it as a company, but all of their accounts were in schools at the time. Alison is Marquita and Mallory’s supervisor, but I’ve actually found Marquita to be most responsive and best for sending referrals.')\n"
     ]
    }
   ],
   "source": [
    "cs.execute(\" select * from PROJECT_TWA.PROJECT_TWA_SCHEMA.JOBDETAILS\")\n",
    "JobDetails_result=cs.fetchone();\n",
    "print(result)"
   ]
  },
  {
   "cell_type": "code",
   "execution_count": 48,
   "id": "90ed1acc",
   "metadata": {},
   "outputs": [],
   "source": [
    "from tkinter import *\n",
    "\n",
    "def option_selected(*args):\n",
    "    selected_option = variable.get()\n",
    "    if selected_option != \"select jobseeker\":\n",
    "        label1.config(text=\"Selected Job Seeker: \" + selected_option)\n",
    "        label2.config(text = \"Available Jobs: \" + JobDetails_result[4] )\n",
    "    else:\n",
    "        label1.config(text=\"\")\n",
    "        label2.config(text=\"Sorry! No matching jobs\")\n",
    "        \n",
    "        \n",
    "master = Tk()\n",
    "master.geometry(\"400x300\")  # Set the default size to 400 pixels wide and 300 pixels high\n",
    "master.title(\"Project_TWA\")\n",
    "\n",
    "variable = StringVar(master)\n",
    "variable.set(\"select jobseeker\") # default value\n",
    "variable.trace(\"w\", option_selected) \n",
    "\n",
    "w = OptionMenu(master, variable, jobSeeker_result[0])\n",
    "w.pack()\n",
    "\n",
    "label1 = Label(master, text=\"\")\n",
    "label1.pack()\n",
    "\n",
    "label2 = Label(master, text=\"\")\n",
    "label2.pack()\n",
    "\n",
    "mainloop()\n"
   ]
  },
  {
   "cell_type": "code",
   "execution_count": null,
   "id": "6017a439",
   "metadata": {},
   "outputs": [],
   "source": []
  },
  {
   "cell_type": "code",
   "execution_count": null,
   "id": "435b04b1",
   "metadata": {},
   "outputs": [],
   "source": []
  }
 ],
 "metadata": {
  "kernelspec": {
   "display_name": "Python 3 (ipykernel)",
   "language": "python",
   "name": "python3"
  },
  "language_info": {
   "codemirror_mode": {
    "name": "ipython",
    "version": 3
   },
   "file_extension": ".py",
   "mimetype": "text/x-python",
   "name": "python",
   "nbconvert_exporter": "python",
   "pygments_lexer": "ipython3",
   "version": "3.11.2"
  }
 },
 "nbformat": 4,
 "nbformat_minor": 5
}
